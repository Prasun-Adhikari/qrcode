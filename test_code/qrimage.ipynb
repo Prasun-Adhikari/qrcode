{
 "cells": [
  {
   "cell_type": "code",
   "execution_count": 1,
   "id": "6da37352-9031-4a5f-bd02-fcd737eaf390",
   "metadata": {},
   "outputs": [],
   "source": [
    "import matplotlib.pyplot as plt\n",
    "import numpy as np\n",
    "from divide import data"
   ]
  },
  {
   "cell_type": "code",
   "execution_count": 2,
   "id": "c4e88d59-4dff-4bcd-8d37-6d25c4fef96e",
   "metadata": {},
   "outputs": [],
   "source": [
    "size = 33\n",
    "qrcode = np.zeros((size, size), dtype=np.bool)\n",
    "setbits = np.zeros((size, size), dtype=np.float64)"
   ]
  },
  {
   "cell_type": "code",
   "execution_count": 3,
   "id": "9bb0c199-f551-4528-86f8-479c3b741ddf",
   "metadata": {},
   "outputs": [],
   "source": [
    "def finder_pattern(qr, set_bits, i, j, buf_dir):\n",
    "    di, dj = buf_dir\n",
    "    qr[i-3:i+4, j-3:j+4] = 0\n",
    "    qr[i-2:i+3, j-2:j+3] = 1\n",
    "    qr[i-1:i+2, j-1:j+2] = 0\n",
    "    qr[i+di*4, j-3:j+5] = 1\n",
    "    qr[i-3:i+5, j+dj*4] = 1\n",
    "    set_bits[i-3:i+4, j-3:j+4] = 1\n",
    "    set_bits[i+di*4, j-3:j+5] = 1\n",
    "    set_bits[i-3:i+5, j+dj*4] = 1\n",
    "    \n",
    "finder_pattern(qrcode, setbits, 3, 3, (1, 1))\n",
    "finder_pattern(qrcode, setbits, size-3-1, 3, (-1, 1))\n",
    "finder_pattern(qrcode, setbits, 3, size-3-1, (1, -1))"
   ]
  },
  {
   "cell_type": "code",
   "execution_count": 4,
   "id": "103189d3-3138-4b4f-a981-20c1be101082",
   "metadata": {},
   "outputs": [],
   "source": [
    "def alignment_pattern(qr, set_bits, i, j):\n",
    "    qr[i-2:i+3, j-2:j+3] = 0\n",
    "    qr[i-1:i+2, j-1:j+2] = 1\n",
    "    qr[i, j] = 0\n",
    "    set_bits[i-2:i+3, j-2:j+3] = 1\n",
    "\n",
    "alignment_pattern(qrcode, setbits, 26, 26)"
   ]
  },
  {
   "cell_type": "code",
   "execution_count": 5,
   "id": "c46b1fb4-0044-4ed5-a0d5-1deacec74141",
   "metadata": {},
   "outputs": [],
   "source": [
    "def timing_pattern(qr, set_bits):\n",
    "    qr[6, 7:size-7:2] = 1\n",
    "    qr[7:size-7:2, 6] = 1\n",
    "    set_bits[6, :] = 1\n",
    "    set_bits[:, 6] = 1\n",
    "    \n",
    "timing_pattern(qrcode, setbits)"
   ]
  },
  {
   "cell_type": "code",
   "execution_count": 6,
   "id": "ea508c2f-3aa9-47c0-a797-b772d20fe3d7",
   "metadata": {},
   "outputs": [],
   "source": [
    "def format_bits(qr, set_bits):\n",
    "    for i in range(0, 8):\n",
    "        if not set_bits[8, i]:\n",
    "            set_bits[8, i] = 1\n",
    "        if not set_bits[i, 8]:\n",
    "            set_bits[i, 8] = 1\n",
    "        set_bits[8, 8] = 1\n",
    "        if not set_bits[size-i-1, 8]:\n",
    "            set_bits[size-i-1, 8] = 1\n",
    "        if not set_bits[8, size-i-1]:\n",
    "            set_bits[8, size-i-1] = 1\n",
    "\n",
    "qrcode[size-8, 8] = 0\n",
    "setbits[size-8, 8] = 1\n",
    "format_bits(qrcode, setbits)"
   ]
  },
  {
   "cell_type": "code",
   "execution_count": 7,
   "id": "2dfc93d5-8a80-4608-8dd5-79d020c52e6b",
   "metadata": {},
   "outputs": [],
   "source": [
    "def generate_pattern(size):\n",
    "    i, j = size-1, size-1\n",
    "    di = -1\n",
    "    while True:\n",
    "        yield i, j\n",
    "        yield i, j-1\n",
    "        i += di\n",
    "        if i < 0 or i >= size:\n",
    "            di = -di\n",
    "            i += di\n",
    "            j -= 2\n",
    "            if j == 6:\n",
    "                j -= 1\n",
    "            if j < 0:\n",
    "                break"
   ]
  },
  {
   "cell_type": "code",
   "execution_count": 8,
   "id": "924a63cf-eed5-4ac6-b3df-d288be3aae47",
   "metadata": {},
   "outputs": [],
   "source": [
    "pattern = generate_pattern(size)\n",
    "for word in data:\n",
    "    for char in f\"{word:08b}\":\n",
    "        i, j = next(pattern)\n",
    "        while setbits[i, j] != 0:\n",
    "            i, j = next(pattern)\n",
    "        if i % 2 == 0:\n",
    "           qrcode[i, j] = int(char)\n",
    "        else:\n",
    "            qrcode[i, j] = 1 - int(char)\n",
    "        setbits[i, j] = 1"
   ]
  },
  {
   "cell_type": "code",
   "execution_count": 9,
   "id": "1b36a6f3-158d-4d19-bc4b-bd17d0b66826",
   "metadata": {},
   "outputs": [],
   "source": [
    "format_mask_bits = '111001011110011'"
   ]
  },
  {
   "cell_type": "code",
   "execution_count": 10,
   "id": "aedc67da-62a5-4ba5-a4b8-23586ce944c1",
   "metadata": {},
   "outputs": [],
   "source": [
    "def format_loc_1(size):\n",
    "    i, j = size-1, 8\n",
    "    for _ in range(7):\n",
    "        yield i, j\n",
    "        i -= 1\n",
    "    i, j = 8, size-8\n",
    "    for _ in range(8):\n",
    "        yield i, j\n",
    "        j += 1"
   ]
  },
  {
   "cell_type": "code",
   "execution_count": 11,
   "id": "20138e0d-1791-495e-8d1d-d79e30268215",
   "metadata": {},
   "outputs": [],
   "source": [
    "def format_loc_2(size):\n",
    "    i, j = 8, 0\n",
    "    for _ in range(8):\n",
    "        yield i, j\n",
    "        j += 1\n",
    "        if j == 6:\n",
    "            j += 1\n",
    "    i, j = 7, 8\n",
    "    for _ in range(7):\n",
    "        yield i, j\n",
    "        i -= 1\n",
    "        if i == 6:\n",
    "            i -= 1"
   ]
  },
  {
   "cell_type": "code",
   "execution_count": 12,
   "id": "9f029574-0504-4735-acef-a4ea0e5c27f5",
   "metadata": {},
   "outputs": [],
   "source": [
    "pat1, pat2 = format_loc_1(size), format_loc_2(size)\n",
    "for char in format_mask_bits:\n",
    "    p1, p2 = next(pat1), next(pat2)\n",
    "    qrcode[p1] = 1 - int(char)\n",
    "    setbits[p1] = 1\n",
    "    qrcode[p2] = 1 - int(char)\n",
    "    setbits[p2] = 1"
   ]
  },
  {
   "cell_type": "code",
   "execution_count": 13,
   "id": "00d0c0f9-2fc3-47db-81f0-c98a15cab45a",
   "metadata": {},
   "outputs": [
    {
     "data": {
      "text/plain": [
       "<matplotlib.image.AxesImage at 0x7a3d443e4500>"
      ]
     },
     "execution_count": 13,
     "metadata": {},
     "output_type": "execute_result"
    },
    {
     "data": {
      "image/png": "[encoded data removed]",
      "text/plain": [
       "<Figure size 640x480 with 1 Axes>"
      ]
     },
     "metadata": {},
     "output_type": "display_data"
    }
   ],
   "source": [
    "plt.imshow(qrcode, cmap='grey')"
   ]
  },
  {
   "cell_type": "code",
   "execution_count": 15,
   "id": "88421b42-59e7-4a37-a89f-db0899239964",
   "metadata": {},
   "outputs": [
    {
     "data": {
      "text/plain": [
       "<matplotlib.image.AxesImage at 0x7a3d4427fc80>"
      ]
     },
     "execution_count": 15,
     "metadata": {},
     "output_type": "execute_result"
    },
    {
     "data": {
      "image/png": "[encoded data removed]",
      "text/plain": [
       "<Figure size 640x480 with 1 Axes>"
      ]
     },
     "metadata": {},
     "output_type": "display_data"
    }
   ],
   "source": [
    "qrcode[18,13] = 0\n",
    "qrcode[17,14] = 1\n",
    "qrcode[16,15] = 0\n",
    "qrcode[16,16] = 0\n",
    "qrcode[18,17] = 0\n",
    "qrcode[17,18] = 1\n",
    "qrcode[16,19] = 0\n",
    "qrcode[16,20] = 0\n",
    "qrcode[20,20] = 1\n",
    "qrcode[18,21] = 0\n",
    "# qrcode[21, 13:22] = 0\n",
    "qrcode[21, 14] = 0\n",
    "qrcode[21, 18] = 0\n",
    "plt.imshow(qrcode, cmap='grey')"
   ]
  },
  {
   "cell_type": "code",
   "execution_count": null,
   "id": "d1d05577-aa00-439b-a028-403d32b98744",
   "metadata": {},
   "outputs": [],
   "source": []
  }
 ],
 "metadata": {
  "kernelspec": {
   "display_name": ".venv",
   "language": "python",
   "name": ".venv"
  },
  "language_info": {
   "codemirror_mode": {
    "name": "ipython",
    "version": 3
   },
   "file_extension": ".py",
   "mimetype": "text/x-python",
   "name": "python",
   "nbconvert_exporter": "python",
   "pygments_lexer": "ipython3",
   "version": "3.12.3"
  }
 },
 "nbformat": 4,
 "nbformat_minor": 5
}
