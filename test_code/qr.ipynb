{
 "cells": [
  {
   "cell_type": "code",
   "execution_count": 1,
   "id": "122f77ec-cffb-4b61-b5f7-0b5ca6a5d9a5",
   "metadata": {},
   "outputs": [],
   "source": [
    "import numpy as np"
   ]
  },
  {
   "cell_type": "code",
   "execution_count": 2,
   "id": "e6d1246f-a5f8-4363-832a-2e627d1e5de4",
   "metadata": {},
   "outputs": [],
   "source": [
    "text = \"Hello World\""
   ]
  },
  {
   "cell_type": "code",
   "execution_count": 3,
   "id": "4ddd8c9d-1ca7-46fc-94c2-35abf5ee6335",
   "metadata": {},
   "outputs": [],
   "source": [
    "data = ''\n",
    "for char in text:\n",
    "    data += f\"{ord(char):08b}\""
   ]
  },
  {
   "cell_type": "code",
   "execution_count": 4,
   "id": "a5713ca4-45e1-48ba-979c-cb1a6fe9b6ee",
   "metadata": {},
   "outputs": [],
   "source": [
    "mode = '0100'\n",
    "charcount = f\"{len(text):08b}\"\n",
    "bitstream = mode + charcount + data"
   ]
  },
  {
   "cell_type": "code",
   "execution_count": 5,
   "id": "15a92b82-e1a5-4476-845a-e0880ae7510e",
   "metadata": {},
   "outputs": [
    {
     "data": {
      "text/plain": [
       "(640, 100)"
      ]
     },
     "execution_count": 5,
     "metadata": {},
     "output_type": "execute_result"
    }
   ],
   "source": [
    "req_length = 8*80\n",
    "req_length, len(bitstream)"
   ]
  },
  {
   "cell_type": "code",
   "execution_count": 6,
   "id": "54d1405e-eafd-4227-8a02-02412cc3ef7e",
   "metadata": {},
   "outputs": [],
   "source": [
    "if len(bitstream) < req_length:\n",
    "    bitstream += '0000'\n",
    "if len(bitstream) < req_length:\n",
    "    bitstream += '0'*((-len(bitstream))%8)    "
   ]
  },
  {
   "cell_type": "code",
   "execution_count": 7,
   "id": "8ed8f02e-e2c7-4e22-8304-3957f29fb59c",
   "metadata": {},
   "outputs": [],
   "source": [
    "patter = f\"{0xEC:08b}\", f\"{0x11:08b}\""
   ]
  },
  {
   "cell_type": "code",
   "execution_count": 8,
   "id": "1a55c1b3-a00a-4886-8b48-89d1bf3a0ff3",
   "metadata": {},
   "outputs": [],
   "source": [
    "i = 0\n",
    "while len(bitstream) < req_length:\n",
    "    bitstream += patter[i]\n",
    "    i = 1 - i"
   ]
  },
  {
   "cell_type": "code",
   "execution_count": 9,
   "id": "86ff005b-a1fc-4f37-93a0-1458c3e6e3dc",
   "metadata": {},
   "outputs": [
    {
     "name": "stdout",
     "output_type": "stream",
     "text": [
      "640\n"
     ]
    }
   ],
   "source": [
    "print(len(bitstream))"
   ]
  },
  {
   "cell_type": "code",
   "execution_count": 14,
   "id": "58ab26f2-380f-4f34-a2c2-ca19177814ca",
   "metadata": {},
   "outputs": [],
   "source": [
    "bytestream = []\n",
    "for index in range(0, len(bitstream), 8):\n",
    "    bytestream.append(int(bitstream[index: index+8], base=2))\n",
    "message = np.array(bytestream)[::-1]"
   ]
  },
  {
   "cell_type": "code",
   "execution_count": 15,
   "id": "4c77d48c-c8c2-4a8e-a9e3-136096f1fc4d",
   "metadata": {},
   "outputs": [
    {
     "data": {
      "text/plain": [
       "array([236,  17, 236,  17, 236,  17, 236,  17, 236,  17, 236,  17, 236,\n",
       "        17, 236,  17, 236,  17, 236,  17, 236,  17, 236,  17, 236,  17,\n",
       "       236,  17, 236,  17, 236,  17, 236,  17, 236,  17, 236,  17, 236,\n",
       "        17, 236,  17, 236,  17, 236,  17, 236,  17, 236,  17, 236,  17,\n",
       "       236,  17, 236,  17, 236,  17, 236,  17, 236,  17, 236,  17, 236,\n",
       "        17, 236,  64, 198,  38, 247, 118,   5, 242, 198, 198,  86, 134,\n",
       "       180,  64])"
      ]
     },
     "execution_count": 15,
     "metadata": {},
     "output_type": "execute_result"
    }
   ],
   "source": [
    "message"
   ]
  }
 ],
 "metadata": {
  "kernelspec": {
   "display_name": ".venv",
   "language": "python",
   "name": ".venv"
  },
  "language_info": {
   "codemirror_mode": {
    "name": "ipython",
    "version": 3
   },
   "file_extension": ".py",
   "mimetype": "text/x-python",
   "name": "python",
   "nbconvert_exporter": "python",
   "pygments_lexer": "ipython3",
   "version": "3.12.3"
  }
 },
 "nbformat": 4,
 "nbformat_minor": 5
}
