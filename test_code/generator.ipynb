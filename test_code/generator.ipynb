{
 "cells": [
  {
   "cell_type": "code",
   "execution_count": 1,
   "id": "af6e0559-0f4b-4bff-adcc-ce4a581fe523",
   "metadata": {},
   "outputs": [],
   "source": [
    "import numpy as np\n",
    "from log_table import get_log_tables, get_generator, get_generator_2"
   ]
  },
  {
   "cell_type": "code",
   "execution_count": 2,
   "id": "ea67c3d2-c927-4539-8f48-361010e4d8ee",
   "metadata": {},
   "outputs": [],
   "source": [
    "antilog_table, log_table = get_log_tables()"
   ]
  },
  {
   "cell_type": "code",
   "execution_count": 4,
   "id": "6001aff6-f561-4c2e-aa2b-88ec930540f6",
   "metadata": {},
   "outputs": [
    {
     "data": {
      "text/plain": [
       "array([190, 188, 212, 212, 164, 156, 239,  83, 225, 221, 180, 202, 187,\n",
       "        26, 163,  61,  50,  79,  60,  17,   0])"
      ]
     },
     "execution_count": 4,
     "metadata": {},
     "output_type": "execute_result"
    }
   ],
   "source": [
    "get_generator(20)"
   ]
  },
  {
   "cell_type": "code",
   "execution_count": 6,
   "id": "45dfa4bc-2cd3-4170-915e-e952d731f2d0",
   "metadata": {},
   "outputs": [
    {
     "data": {
      "text/plain": [
       "array([174, 165, 121, 121, 198, 228,  22, 187,  36,  69, 150, 112, 220,\n",
       "         6,  99, 111,   5, 240, 185, 152,   1])"
      ]
     },
     "execution_count": 6,
     "metadata": {},
     "output_type": "execute_result"
    }
   ],
   "source": [
    "get_generator_2(20)"
   ]
  }
 ],
 "metadata": {
  "kernelspec": {
   "display_name": ".venv",
   "language": "python",
   "name": ".venv"
  },
  "language_info": {
   "codemirror_mode": {
    "name": "ipython",
    "version": 3
   },
   "file_extension": ".py",
   "mimetype": "text/x-python",
   "name": "python",
   "nbconvert_exporter": "python",
   "pygments_lexer": "ipython3",
   "version": "3.12.3"
  }
 },
 "nbformat": 4,
 "nbformat_minor": 5
}
